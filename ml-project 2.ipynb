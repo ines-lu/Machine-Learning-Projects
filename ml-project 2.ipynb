{
  "cells": [
    {
      "cell_type": "code",
      "execution_count": 1,
      "metadata": {
        "colab": {},
        "colab_type": "code",
        "id": "tJS1lJsC3JLm"
      },
      "outputs": [],
      "source": [
        "# The following piece of code gives the opportunity to show multiple outputs\n",
        "# in one cell:\n",
        "from IPython.core.interactiveshell import InteractiveShell\n",
        "InteractiveShell.ast_node_interactivity = \"all\"\n",
        "\n",
        "# Colorful outputs\n",
        "class bcolors:\n",
        "    RED       = '\\033[91m'\n",
        "    OKBLUE    = '\\033[94m'\n",
        "    BOLD      = '\\033[1m'\n",
        "    UNDERLINE = '\\033[4m'\n",
        "    ENDC      = '\\033[0m'"
      ]
    },
    {
      "attachments": {},
      "cell_type": "markdown",
      "metadata": {},
      "source": [
        "---------"
      ]
    },
    {
      "attachments": {},
      "cell_type": "markdown",
      "metadata": {},
      "source": [
        "# Project 2 <font color=\"blue\">(8 points)</font>\n"
      ]
    },
    {
      "attachments": {},
      "cell_type": "markdown",
      "metadata": {},
      "source": [
        "\n",
        "##### Student Name: Yunting LU (Ines LU)\n",
        "##### McGill ID: 261187435"
      ]
    },
    {
      "attachments": {},
      "cell_type": "markdown",
      "metadata": {
        "colab_type": "text",
        "id": "x7-bW60Eb151"
      },
      "source": [
        "## Question \n",
        "In this exercise you will create some simulated data and will fit\n",
        "linear regression models to it. Make sure to fix the seed to $111$ prior to\n",
        "starting.\n",
        "  \n",
        "  1. **<font color=\"blue\">(0.25 points)</font>** Create a vector `x` containing $100$ observations drawn from a $\\mathcal{N}(0, 1)$ distribution as your feature. \n",
        "  "
      ]
    },
    {
      "cell_type": "code",
      "execution_count": 19,
      "metadata": {},
      "outputs": [],
      "source": [
        "import numpy as np\n",
        "\n",
        "# Fixing the seed\n",
        "np.random.seed(111)\n",
        "\n",
        "# Create a vector x containing 100 observations drawn from a N(0, 1) distribution\n",
        "x = np.random.normal(0, 1, 100)\n"
      ]
    },
    {
      "attachments": {},
      "cell_type": "markdown",
      "metadata": {},
      "source": [
        "2. **<font color=\"blue\">(0.25 points)</font>** Create a vector, `eps` (for $\\epsilon$), containing $100$ observations drawn from a $\\mathcal{N}(0, 0.25)$. \n",
        " "
      ]
    },
    {
      "cell_type": "code",
      "execution_count": 20,
      "metadata": {},
      "outputs": [],
      "source": [
        "# Create a vector eps containing 100 observations drawn from a N(0, 0.25) distribution\n",
        "eps = np.random.normal(0, 0.25, 100)\n"
      ]
    },
    {
      "attachments": {},
      "cell_type": "markdown",
      "metadata": {},
      "source": [
        "  3. **<font color=\"blue\">(0.5 points)</font>** Using `x` and `eps` generate a vector `y` according to the model $y = −1 + 0.5x + \\epsilon$.\n",
        " "
      ]
    },
    {
      "cell_type": "code",
      "execution_count": 21,
      "metadata": {},
      "outputs": [],
      "source": [
        "# Generate a vector y according to the model y = -1 + 0.52x + ε\n",
        "y = -1 + 0.52 * x + eps\n"
      ]
    },
    {
      "attachments": {},
      "cell_type": "markdown",
      "metadata": {},
      "source": [
        " 4. **<font color=\"blue\">(0.5 points)</font>** Create a scatterplot displaying the relationship between `x` and `y`. Comment on what you observe.\n"
      ]
    },
    {
      "cell_type": "code",
      "execution_count": 22,
      "metadata": {},
      "outputs": [
        {
          "data": {
            "text/plain": [
              "<matplotlib.collections.PathCollection at 0x1fa9322b220>"
            ]
          },
          "execution_count": 22,
          "metadata": {},
          "output_type": "execute_result"
        },
        {
          "data": {
            "text/plain": [
              "Text(0.5, 0, 'x')"
            ]
          },
          "execution_count": 22,
          "metadata": {},
          "output_type": "execute_result"
        },
        {
          "data": {
            "text/plain": [
              "Text(0, 0.5, 'y')"
            ]
          },
          "execution_count": 22,
          "metadata": {},
          "output_type": "execute_result"
        },
        {
          "data": {
            "text/plain": [
              "Text(0.5, 1.0, 'Scatterplot of x versus y')"
            ]
          },
          "execution_count": 22,
          "metadata": {},
          "output_type": "execute_result"
        },
        {
          "data": {
            "image/png": "[encoded data removed]",
            "text/plain": [
              "<Figure size 432x288 with 1 Axes>"
            ]
          },
          "metadata": {
            "needs_background": "light"
          },
          "output_type": "display_data"
        }
      ],
      "source": [
        "import matplotlib.pyplot as plt\n",
        "\n",
        "# Create a scatterplot displaying the relationship between x and y\n",
        "plt.scatter(x, y)\n",
        "plt.xlabel('x')\n",
        "plt.ylabel('y')\n",
        "plt.title('Scatterplot of x versus y')\n",
        "plt.show()\n"
      ]
    },
    {
      "attachments": {},
      "cell_type": "markdown",
      "metadata": {},
      "source": [
        "[Comments]:\n",
        "\n",
        "- since the y values were generated from the x values using a linear model with a slope of 0.52 and an intercept of -1, plus some normally-distributed noise, you would generally expect to see a scatterplot where points tend to cluster around a line with a slope of roughly 0.52 and an intercept of roughly -1. \n",
        "- The extent of the clustering around the line will be influenced by the magnitude of the noise (which in this case is drawn from a normal distribution with mean 0 and standard deviation 0.25), with more noise leading to a less tight clustering of points around the line."
      ]
    },
    {
      "attachments": {},
      "cell_type": "markdown",
      "metadata": {},
      "source": [
        "  5. **<font color=\"blue\">(2 points)</font>** Fit a least squares linear model to predict `y` using `x` . Comment on the model obtained. How do $\\hat{\\beta}_0$ and $\\hat{\\beta}_1$ compare to $\\beta_0$ and $\\beta_1$?\n"
      ]
    },
    {
      "cell_type": "code",
      "execution_count": 23,
      "metadata": {},
      "outputs": [
        {
          "name": "stdout",
          "output_type": "stream",
          "text": [
            "                            OLS Regression Results                            \n",
            "==============================================================================\n",
            "Dep. Variable:                      y   R-squared:                       0.800\n",
            "Model:                            OLS   Adj. R-squared:                  0.798\n",
            "Method:                 Least Squares   F-statistic:                     391.9\n",
            "Date:                Thu, 08 Jun 2023   Prob (F-statistic):           5.08e-36\n",
            "Time:                        19:31:00   Log-Likelihood:               -0.46681\n",
            "No. Observations:                 100   AIC:                             4.934\n",
            "Df Residuals:                      98   BIC:                             10.14\n",
            "Df Model:                           1                                         \n",
            "Covariance Type:            nonrobust                                         \n",
            "==============================================================================\n",
            "                 coef    std err          t      P>|t|      [0.025      0.975]\n",
            "------------------------------------------------------------------------------\n",
            "const         -0.9916      0.025    -40.375      0.000      -1.040      -0.943\n",
            "x1             0.5004      0.025     19.797      0.000       0.450       0.551\n",
            "==============================================================================\n",
            "Omnibus:                        0.805   Durbin-Watson:                   1.879\n",
            "Prob(Omnibus):                  0.669   Jarque-Bera (JB):                0.355\n",
            "Skew:                          -0.009   Prob(JB):                        0.837\n",
            "Kurtosis:                       3.291   Cond. No.                         1.03\n",
            "==============================================================================\n",
            "\n",
            "Notes:\n",
            "[1] Standard Errors assume that the covariance matrix of the errors is correctly specified.\n"
          ]
        }
      ],
      "source": [
        "import statsmodels.api as sm\n",
        "\n",
        "# Add a constant to the x vector\n",
        "x = sm.add_constant(x)\n",
        "\n",
        "# Fit a least squares linear model to predict y using x\n",
        "model = sm.OLS(y, x)\n",
        "results = model.fit()\n",
        "\n",
        "print(results.summary())\n"
      ]
    },
    {
      "attachments": {},
      "cell_type": "markdown",
      "metadata": {},
      "source": [
        "[Observations on the model]:\n",
        "\n",
        "\n",
        "1. The model has a **R-squared value of 0.800**, which indicates that 80% of the variability in the dependent variable `y` can be explained by the independent variable `x`. This is a high value and typically considered a good fit.\n",
        "\n",
        "2. The **Adjusted R-squared value is 0.798** which is slightly less than the R-squared value but still quite high. It suggests that almost all the included predictors (in this case, only `x`) are relevant.\n",
        "\n",
        "3. The **F-statistic is 391.9** and the **Prob (F-statistic) is extremely small**, practically zero. This indicates that there is a statistically significant relationship between the predictor (`x`) and the outcome variable (`y`).\n",
        "\n",
        "4. The **estimated coefficients** are -0.9916 (intercept or `const`) and 0.5004 (`x1` or the slope). These are close to the original values used to generate `y` (-1 and 0.52 respectively) suggesting that the model has done a good job of learning the underlying relationship.\n",
        "\n",
        "5. The **p-values for both the intercept and the slope are small (practically 0)**, indicating that both are statistically significant. \n",
        "\n",
        "6. **The standard errors are also low**, indicating a high level of confidence in the coefficient estimates.\n",
        "\n",
        "7. The **Durbin-Watson statistic is 1.879**, which is close to 2, suggesting that there is no significant autocorrelation in the residuals.\n",
        "\n",
        "8. The **Omnibus and Jarque-Bera (JB) tests**, which are tests of the skewness and kurtosis of the residual distribution respectively, have high p-values, indicating that the residuals are normally distributed.\n",
        "\n",
        "In summary, this model has done a good job of fitting the data, and there's strong evidence to suggest that `x` is a significant predictor of `y`. The coefficient estimates are close to the true values, indicating that the model has accurately captured the underlying relationship."
      ]
    },
    {
      "attachments": {},
      "cell_type": "markdown",
      "metadata": {},
      "source": [
        "[How do $\\hat{\\beta}_0$ and $\\hat{\\beta}_1$ compare to $\\beta_0$ and $\\beta_1$?]:\n",
        "\n",
        "The β coefficients are the true, underlying parameters of the model that we're trying to estimate with the least squares method. In this case, the true intercept β0 was -1 and the true slope β1 was 0.52, which were the parameters you used to simulate the data.\n",
        "\n",
        "The estimated coefficients from the model output, denoted as β-hat (or β̂), are -0.9916 for the intercept (β̂0) and 0.5004 for the slope (β̂1). \n",
        "\n",
        "Comparing these values:\n",
        "\n",
        "- The estimated intercept β̂0 (-0.9916) is very close to the true intercept β0 (-1). \n",
        "\n",
        "- The estimated slope β̂1 (0.5004) is also very close to the true slope β1 (0.52). \n",
        "\n",
        "These estimates are not exactly equal to the true values due to the added noise (ε), but they are close, indicating that the model has done a good job of learning the underlying linear relationship. This is what you would hope to see: despite the random noise, our least squares method has been able to recover coefficients that are very close to the original parameters used to generate the data."
      ]
    },
    {
      "attachments": {},
      "cell_type": "markdown",
      "metadata": {},
      "source": [
        "  6. **<font color=\"blue\">(2 point)</font>** Display the least squares line on the scatterplot obtained in part 4. Draw the population regression line on the plot, in a different color. Create an appropriate legend.\n"
      ]
    },
    {
      "cell_type": "code",
      "execution_count": 26,
      "metadata": {},
      "outputs": [
        {
          "data": {
            "text/plain": [
              "<matplotlib.collections.PathCollection at 0x1fa95570340>"
            ]
          },
          "execution_count": 26,
          "metadata": {},
          "output_type": "execute_result"
        },
        {
          "data": {
            "text/plain": [
              "[<matplotlib.lines.Line2D at 0x1fa95570940>]"
            ]
          },
          "execution_count": 26,
          "metadata": {},
          "output_type": "execute_result"
        },
        {
          "data": {
            "text/plain": [
              "[<matplotlib.lines.Line2D at 0x1fa95570be0>]"
            ]
          },
          "execution_count": 26,
          "metadata": {},
          "output_type": "execute_result"
        },
        {
          "data": {
            "text/plain": [
              "Text(0.5, 0, 'x')"
            ]
          },
          "execution_count": 26,
          "metadata": {},
          "output_type": "execute_result"
        },
        {
          "data": {
            "text/plain": [
              "Text(0, 0.5, 'y')"
            ]
          },
          "execution_count": 26,
          "metadata": {},
          "output_type": "execute_result"
        },
        {
          "data": {
            "text/plain": [
              "Text(0.5, 1.0, 'Scatterplot of x versus y with fitted lines')"
            ]
          },
          "execution_count": 26,
          "metadata": {},
          "output_type": "execute_result"
        },
        {
          "data": {
            "text/plain": [
              "<matplotlib.legend.Legend at 0x1fa95570b80>"
            ]
          },
          "execution_count": 26,
          "metadata": {},
          "output_type": "execute_result"
        },
        {
          "data": {
            "image/png": "[encoded data removed]",
            "text/plain": [
              "<Figure size 432x288 with 1 Axes>"
            ]
          },
          "metadata": {
            "needs_background": "light"
          },
          "output_type": "display_data"
        }
      ],
      "source": [
        "import matplotlib.pyplot as plt\n",
        "\n",
        "# Extract the coefficients from the fitted model\n",
        "beta0_hat = results.params[0] # intercept\n",
        "beta1_hat = results.params[1] # slope\n",
        "\n",
        "# Create a scatterplot displaying the relationship between x and y\n",
        "plt.scatter(x[:, 1], y, label='Data', alpha=0.5) # x[:, 1] is to exclude the constant term\n",
        "\n",
        "# Plot the least squares line\n",
        "y_hat = beta0_hat + beta1_hat * x[:, 1]\n",
        "plt.plot(x[:, 1], y_hat, color='red', label='Least squares line')\n",
        "\n",
        "# Plot the population regression line\n",
        "y_pop = -1 + 0.52 * x[:, 1]\n",
        "plt.plot(x[:, 1], y_pop, color='green', label='Population regression line')\n",
        "\n",
        "plt.xlabel('x')\n",
        "plt.ylabel('y')\n",
        "plt.title('Scatterplot of x versus y with fitted lines')\n",
        "plt.legend()\n",
        "plt.show()\n"
      ]
    },
    {
      "attachments": {},
      "cell_type": "markdown",
      "metadata": {},
      "source": [
        "  7. **<font color=\"blue\">(2.5 points)</font>** Explain how the result would change if you generate the data with less noise and repeat all steps 1 to 6? What about more noise?"
      ]
    },
    {
      "attachments": {},
      "cell_type": "markdown",
      "metadata": {},
      "source": [
        "Noise in a dataset introduces randomness or variability in the observations. In the context of this linear regression exercise, the noise term ε represents the unexplained variation in the response variable `y` that the predictor `x` cannot account for.\n",
        "\n",
        "1. **Less Noise**: If the data is generated with less noise, i.e., the standard deviation of the ε term is smaller, then the generated data points will be closer to the true regression line (the population regression line). This means the least squares line (from the linear regression model) will also be closer to the true regression line. As a result, the estimated coefficients will be closer to the true coefficients, the model's R-squared value will be higher (indicating a better fit), and the residuals (the differences between the observed and predicted values) will be smaller.\n",
        "\n",
        "2. **More Noise**: Conversely, if the data is generated with more noise, i.e., the standard deviation of the ε term is larger, then the generated data points will be more scattered around the true regression line. This means that the least squares line will be further from the true regression line. As a result, the estimated coefficients might deviate more from the true coefficients, the model's R-squared value will be lower (indicating a poorer fit), and the residuals will be larger.\n",
        "\n",
        "In both cases, whether you add less or more noise, the principles of the linear regression method remain the same. However, the quality of the model's fit and the accuracy of the parameter estimates will be influenced by the level of noise in the data. \n"
      ]
    },
    {
      "cell_type": "code",
      "execution_count": null,
      "metadata": {},
      "outputs": [],
      "source": []
    }
  ],
  "metadata": {
    "colab": {
      "collapsed_sections": [],
      "name": "Assignment01.ipynb",
      "provenance": []
    },
    "kernelspec": {
      "display_name": "Python 3",
      "language": "python",
      "name": "python3"
    },
    "language_info": {
      "codemirror_mode": {
        "name": "ipython",
        "version": 3
      },
      "file_extension": ".py",
      "mimetype": "text/x-python",
      "name": "python",
      "nbconvert_exporter": "python",
      "pygments_lexer": "ipython3",
      "version": "3.9.12"
    }
  },
  "nbformat": 4,
  "nbformat_minor": 0
}
