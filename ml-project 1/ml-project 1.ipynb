{
  "cells": [
    {
      "cell_type": "code",
      "execution_count": 1,
      "metadata": {
        "colab": {},
        "colab_type": "code",
        "id": "tJS1lJsC3JLm"
      },
      "outputs": [],
      "source": [
        "# The following piece of code gives the opportunity to show multiple outputs\n",
        "# in one cell:\n",
        "from IPython.core.interactiveshell import InteractiveShell\n",
        "InteractiveShell.ast_node_interactivity = \"all\"\n",
        "\n",
        "# Colorful outputs\n",
        "class bcolors:\n",
        "    RED       = '\\033[91m'\n",
        "    OKBLUE    = '\\033[94m'\n",
        "    BOLD      = '\\033[1m'\n",
        "    UNDERLINE = '\\033[4m'\n",
        "    ENDC      = '\\033[0m'"
      ]
    },
    {
      "attachments": {},
      "cell_type": "markdown",
      "metadata": {},
      "source": [
        "---------"
      ]
    },
    {
      "attachments": {},
      "cell_type": "markdown",
      "metadata": {},
      "source": [
        "# Project 1  <font color=\"blue\">(6 points)</font>\n"
      ]
    },
    {
      "attachments": {},
      "cell_type": "markdown",
      "metadata": {},
      "source": [
        "\n",
        "##### Student Name: Yunting LU (Ines LU)\n",
        "##### McGill ID: 261187435"
      ]
    },
    {
      "attachments": {},
      "cell_type": "markdown",
      "metadata": {
        "colab_type": "text",
        "id": "udPL4T8f3JLx"
      },
      "source": [
        "## Question \n",
        "Let $\\mathbf X\\sim \\mbox{Exp}(\\lambda)$, with parameter $\\lambda = 1.2$.\n",
        "  1. **<font color=\"blue\">(0.5 points)</font>** What is the population mean?\n"
      ]
    },
    {
      "attachments": {},
      "cell_type": "markdown",
      "metadata": {},
      "source": [
        "- The error describe a random variable X that follows an exponential distribution with a parameter λ (lambda) equal to 1.2. The exponential distribution is commonly denoted as X ~ Exp(λ). \n",
        "- In the exponential distribution, the population mean (also known as the expected value) is given by the formula:  **E[X] = 1 / λ** \n",
        "- Therefore, in this case, the population mean of X is: <br/>\n",
        "    **E[X] = 1 / 1.2 = 0.8333 (rounded to four decimal places)**\n",
        "- So, the population mean of the random variable X is approximately **0.8333**."
      ]
    },
    {
      "attachments": {},
      "cell_type": "markdown",
      "metadata": {},
      "source": [
        "  2. **<font color=\"blue\">(1 point)</font>**  Generate $100$ different samples of $\\mathbf X$, namely, $S_{100}, S_{200}, S_{300}, \\dots, S_{10000}$, where indeces denote the number of observations (sample size) in each sample. \n"
      ]
    },
    {
      "cell_type": "code",
      "execution_count": 10,
      "metadata": {},
      "outputs": [
        {
          "name": "stdout",
          "output_type": "stream",
          "text": [
            "Sample S100 (first 5 values): [2.54983075 0.63385525 0.51602963 0.87890922 1.72020902]\n"
          ]
        }
      ],
      "source": [
        "import numpy as np\n",
        "\n",
        "lambda_val = 1.2\n",
        "\n",
        "samples = {}  # Dictionary to store the samples\n",
        "\n",
        "for size in range(100, 10100, 100):\n",
        "    samples[size] = np.random.exponential(scale=1/lambda_val, size=size)\n",
        "\n",
        "# Accessing the samples:\n",
        "# samples[100] contains the sample of size 100\n",
        "# samples[200] contains the sample of size 200\n",
        "# and so on...\n",
        "\n",
        "# Printing the first few values from the sample of size 100\n",
        "print(\"Sample S100 (first 5 values):\", samples[100][:5])\n"
      ]
    },
    {
      "attachments": {},
      "cell_type": "markdown",
      "metadata": {},
      "source": [
        "  3. **<font color=\"blue\">(1.5 points)</font> Estimate** the population mean using each sample and explain the rationale behind your estimation. "
      ]
    },
    {
      "cell_type": "code",
      "execution_count": 11,
      "metadata": {},
      "outputs": [
        {
          "name": "stdout",
          "output_type": "stream",
          "text": [
            "Estimated mean for S100: 0.8857400459647323\n"
          ]
        }
      ],
      "source": [
        "estimated_means = {}  # Dictionary to store the estimated means\n",
        "\n",
        "for size in range(100, 10100, 100):\n",
        "    sample = samples[size]\n",
        "    estimated_means[size] = np.mean(sample)\n",
        "\n",
        "# Accessing the estimated means:\n",
        "# estimated_means[100] contains the estimated mean for the sample of size 100\n",
        "# estimated_means[200] contains the estimated mean for the sample of size 200\n",
        "# and so on...\n",
        "\n",
        "# Printing the estimated mean for the sample of size 100\n",
        "print(\"Estimated mean for S100:\", estimated_means[100])\n"
      ]
    },
    {
      "attachments": {},
      "cell_type": "markdown",
      "metadata": {},
      "source": [
        "[explain the rationale behind your estimation]:\n",
        "- The rationale behind using the sample mean as an estimate for the population mean is based on the concept of unbiasedness. When a sample is drawn randomly from a population, the sample mean provides an unbiased estimate of the population mean. This means that, on average, the sample mean will be equal to the population mean. By calculating the sample mean for each sample, we obtain multiple estimates and can observe how these estimates vary as the sample size increases."
      ]
    },
    {
      "attachments": {},
      "cell_type": "markdown",
      "metadata": {},
      "source": [
        "  4. **<font color=\"blue\">(1 point)</font>** Applying **appropriate** methods visualize and describe the values obtained in the previous step. \n"
      ]
    },
    {
      "cell_type": "code",
      "execution_count": 17,
      "metadata": {},
      "outputs": [
        {
          "data": {
            "text/plain": [
              "[<matplotlib.lines.Line2D at 0x1fa931a79d0>]"
            ]
          },
          "execution_count": 17,
          "metadata": {},
          "output_type": "execute_result"
        },
        {
          "data": {
            "text/plain": [
              "Text(0.5, 0, 'Sample Size')"
            ]
          },
          "execution_count": 17,
          "metadata": {},
          "output_type": "execute_result"
        },
        {
          "data": {
            "text/plain": [
              "Text(0, 0.5, 'Estimated Mean')"
            ]
          },
          "execution_count": 17,
          "metadata": {},
          "output_type": "execute_result"
        },
        {
          "data": {
            "text/plain": [
              "Text(0.5, 1.0, 'Estimated Mean vs. Sample Size')"
            ]
          },
          "execution_count": 17,
          "metadata": {},
          "output_type": "execute_result"
        },
        {
          "data": {
            "text/plain": [
              "(array([ 1.,  5.,  9., 28., 27., 20.,  4.,  3.,  1.,  2.]),\n",
              " array([0.79436815, 0.80350534, 0.81264253, 0.82177972, 0.83091691,\n",
              "        0.8400541 , 0.84919129, 0.85832848, 0.86746567, 0.87660286,\n",
              "        0.88574005]),\n",
              " <BarContainer object of 10 artists>)"
            ]
          },
          "execution_count": 17,
          "metadata": {},
          "output_type": "execute_result"
        },
        {
          "data": {
            "text/plain": [
              "Text(0.5, 0, 'Estimated Mean')"
            ]
          },
          "execution_count": 17,
          "metadata": {},
          "output_type": "execute_result"
        },
        {
          "data": {
            "text/plain": [
              "Text(0, 0.5, 'Frequency')"
            ]
          },
          "execution_count": 17,
          "metadata": {},
          "output_type": "execute_result"
        },
        {
          "data": {
            "text/plain": [
              "Text(0.5, 1.0, 'Distribution of Estimated Means')"
            ]
          },
          "execution_count": 17,
          "metadata": {},
          "output_type": "execute_result"
        },
        {
          "data": {
            "text/plain": [
              "{'whiskers': [<matplotlib.lines.Line2D at 0x1fa931cb730>,\n",
              "  <matplotlib.lines.Line2D at 0x1fa931cba00>],\n",
              " 'caps': [<matplotlib.lines.Line2D at 0x1fa931cbcd0>,\n",
              "  <matplotlib.lines.Line2D at 0x1fa931cbfa0>],\n",
              " 'boxes': [<matplotlib.lines.Line2D at 0x1fa931cb5e0>],\n",
              " 'medians': [<matplotlib.lines.Line2D at 0x1fa931dc2b0>],\n",
              " 'fliers': [<matplotlib.lines.Line2D at 0x1fa931dc580>],\n",
              " 'means': []}"
            ]
          },
          "execution_count": 17,
          "metadata": {},
          "output_type": "execute_result"
        },
        {
          "data": {
            "text/plain": [
              "Text(0.5, 0, 'Sample Size')"
            ]
          },
          "execution_count": 17,
          "metadata": {},
          "output_type": "execute_result"
        },
        {
          "data": {
            "text/plain": [
              "Text(0, 0.5, 'Estimated Mean')"
            ]
          },
          "execution_count": 17,
          "metadata": {},
          "output_type": "execute_result"
        },
        {
          "data": {
            "text/plain": [
              "Text(0.5, 1.0, 'Box Plot of Estimated Means')"
            ]
          },
          "execution_count": 17,
          "metadata": {},
          "output_type": "execute_result"
        },
        {
          "data": {
            "image/png": "[encoded data removed]",
            "text/plain": [
              "<Figure size 1080x360 with 3 Axes>"
            ]
          },
          "metadata": {
            "needs_background": "light"
          },
          "output_type": "display_data"
        }
      ],
      "source": [
        "import matplotlib.pyplot as plt\n",
        "\n",
        "# Create subplots\n",
        "fig, (ax1, ax2, ax3) = plt.subplots(1, 3, figsize=(15, 5))\n",
        "\n",
        "# Line Plot\n",
        "ax1.plot(range(100, 10100, 100), list(estimated_means.values()))\n",
        "ax1.set_xlabel('Sample Size')\n",
        "ax1.set_ylabel('Estimated Mean')\n",
        "ax1.set_title('Estimated Mean vs. Sample Size')\n",
        "\n",
        "# Histogram\n",
        "ax2.hist(list(estimated_means.values()), bins=10)\n",
        "ax2.set_xlabel('Estimated Mean')\n",
        "ax2.set_ylabel('Frequency')\n",
        "ax2.set_title('Distribution of Estimated Means')\n",
        "\n",
        "# Box Plot\n",
        "ax3.boxplot(list(estimated_means.values()))\n",
        "ax3.set_xlabel('Sample Size')\n",
        "ax3.set_ylabel('Estimated Mean')\n",
        "ax3.set_title('Box Plot of Estimated Means')\n",
        "\n",
        "# Adjust spacing between subplots\n",
        "plt.tight_layout()\n",
        "\n",
        "# Display the plots\n",
        "plt.show()\n"
      ]
    },
    {
      "cell_type": "code",
      "execution_count": 18,
      "metadata": {},
      "outputs": [
        {
          "name": "stdout",
          "output_type": "stream",
          "text": [
            "Mean: 0.8345015006000182\n",
            "Standard Deviation: 0.014525705833452557\n",
            "95% Confidence Interval: [0.81046738 0.86901315]\n"
          ]
        }
      ],
      "source": [
        "# Descriptive Statistics\n",
        "mean = np.mean(list(estimated_means.values()))\n",
        "std = np.std(list(estimated_means.values()))\n",
        "ci_95 = np.percentile(list(estimated_means.values()), [2.5, 97.5])\n",
        "print(\"Mean:\", mean)\n",
        "print(\"Standard Deviation:\", std)\n",
        "print(\"95% Confidence Interval:\", ci_95)"
      ]
    },
    {
      "attachments": {},
      "cell_type": "markdown",
      "metadata": {},
      "source": [
        "  5. **<font color=\"blue\">(2 points)</font>** Finally, draw an inference about the population mean and its relation with sample means, based on visualized results in step 4."
      ]
    },
    {
      "attachments": {},
      "cell_type": "markdown",
      "metadata": {},
      "source": [
        "[inference]:\n",
        "\n",
        "Based on the visualized results from step 4, we can draw the following inference about the population mean and its relation with sample means:\n",
        "\n",
        "1. Convergence: The line plot demonstrates that as the sample size increases, the estimated means tend to converge towards the true population mean. Initially, for smaller sample sizes, there might be more variability in the estimates. However, as the sample size increases, the estimates become more stable and closer to the population mean.\n",
        "\n",
        "2. Sampling Variability: The histogram provides insights into the distribution of the estimated means. It shows that the estimated means follow approximately a normal distribution around the true population mean. The spread of the estimates in the histogram indicates the sampling variability. Smaller sample sizes tend to have wider distributions, reflecting more variability in the estimates. As the sample size increases, the distribution becomes narrower, indicating reduced sampling variability.\n",
        "\n",
        "3. Central Tendency and Spread: The box plot summarizes the central tendency and spread of the estimated means for each sample size. It reveals the median, quartiles, and any potential outliers. The median of the estimated means tends to be close to the true population mean, indicating that the sample means are unbiased estimators. Additionally, the interquartile range (IQR) becomes smaller as the sample size increases, representing a reduction in the spread and greater precision of the estimates.\n",
        "\n",
        "4. Confidence Interval: By calculating the mean, standard deviation, and 95% confidence interval for the estimated means, we can determine the level of confidence we have in the estimates. As the sample size increases, the standard deviation decreases, indicating less variability in the estimates. The 95% confidence interval narrows, suggesting that we can be more confident in the estimated mean as the sample size increases.\n",
        "\n",
        "Overall, the visualized results indicate that as the sample size increases, the estimates of the sample means become more accurate and reliable in estimating the population mean. The estimates tend to converge towards the true population mean, exhibiting reduced sampling variability and improved precision. The larger sample sizes provide more robust estimates with narrower confidence intervals, increasing our confidence in the estimated population mean."
      ]
    }
  ],
  "metadata": {
    "colab": {
      "collapsed_sections": [],
      "name": "Assignment01.ipynb",
      "provenance": []
    },
    "kernelspec": {
      "display_name": "Python 3",
      "language": "python",
      "name": "python3"
    },
    "language_info": {
      "codemirror_mode": {
        "name": "ipython",
        "version": 3
      },
      "file_extension": ".py",
      "mimetype": "text/x-python",
      "name": "python",
      "nbconvert_exporter": "python",
      "pygments_lexer": "ipython3",
      "version": "3.9.12"
    }
  },
  "nbformat": 4,
  "nbformat_minor": 0
}
